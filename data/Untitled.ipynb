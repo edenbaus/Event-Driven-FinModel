{
 "cells": [
  {
   "cell_type": "code",
   "execution_count": 44,
   "metadata": {
    "collapsed": true
   },
   "outputs": [],
   "source": [
    "import pandas as pd"
   ]
  },
  {
   "cell_type": "code",
   "execution_count": 61,
   "metadata": {
    "collapsed": false
   },
   "outputs": [],
   "source": [
    "data=open('BAC.csv')"
   ]
  },
  {
   "cell_type": "code",
   "execution_count": 62,
   "metadata": {
    "collapsed": false
   },
   "outputs": [],
   "source": [
    "dat=data.read()"
   ]
  },
  {
   "cell_type": "code",
   "execution_count": 63,
   "metadata": {
    "collapsed": false
   },
   "outputs": [],
   "source": [
    "array=dat.split('|')"
   ]
  },
  {
   "cell_type": "code",
   "execution_count": 176,
   "metadata": {
    "collapsed": false
   },
   "outputs": [],
   "source": [
    "date=[]\n",
    "content=[]\n",
    "for i in range(2,len(array)-1):\n",
    "    if len(array[i])<30:\n",
    "        date.append(array[i])\n",
    "    else:\n",
    "        content.append(array[i])\n",
    "dic={}\n",
    "dic['date']=date\n",
    "dic['content']=content\n",
    "df=pd.DataFrame(dic)\n",
    "    "
   ]
  },
  {
   "cell_type": "code",
   "execution_count": 95,
   "metadata": {
    "collapsed": false
   },
   "outputs": [],
   "source": [
    "y=range(2007,2017)"
   ]
  },
  {
   "cell_type": "code",
   "execution_count": 96,
   "metadata": {
    "collapsed": false
   },
   "outputs": [],
   "source": [
    "year=map(lambda x: str(x), y)"
   ]
  },
  {
   "cell_type": "code",
   "execution_count": 175,
   "metadata": {
    "collapsed": false
   },
   "outputs": [],
   "source": [
    "def date_transform(df):\n",
    "\tdate=df.date\n",
    "\ty=range(2007,2017)\n",
    "\tyear=map(lambda x: str(x), y)\n",
    "\n",
    "\t\n",
    "\treal_date=[]\n",
    "\tfor i in range(len(date)):\n",
    "\t\tif any(word in date[i] for word in year):\n",
    "\t\t\td=date[i].split(',')[0]+date[i].split(',')[1]\n",
    "\t\t\tdat=parse(d).strftime('%-m/%-d/%y')\n",
    "\t\t####has year#####\n",
    "\t\t\treal_date.append(dat)\n",
    "\t\telse:\n",
    "\t\t\td=date[i].split(',')[1]+' 2017'\n",
    "\t\t\tdat=parse(d).strftime('%-m/%-d/%y')\n",
    "\t\t\treal_date.append(dat)\n",
    "\tj=0\n",
    "\twhile ':' in real_date[j]:\n",
    "\t\tj=j+1\n",
    "\tdf.date=real_date\n",
    "\tdf=df.iloc[j:,:]\n",
    "\treturn df"
   ]
  },
  {
   "cell_type": "code",
   "execution_count": 177,
   "metadata": {
    "collapsed": false
   },
   "outputs": [],
   "source": [
    "market_data=pd.read_csv('../dev/table.csv',header=0)"
   ]
  },
  {
   "cell_type": "code",
   "execution_count": 178,
   "metadata": {
    "collapsed": false
   },
   "outputs": [],
   "source": [
    "df=date_transform(df)"
   ]
  },
  {
   "cell_type": "code",
   "execution_count": 179,
   "metadata": {
    "collapsed": false
   },
   "outputs": [],
   "source": [
    "A=market_data.merge(df,how='left',left_on='Date',right_on='date')"
   ]
  },
  {
   "cell_type": "code",
   "execution_count": 180,
   "metadata": {
    "collapsed": false
   },
   "outputs": [],
   "source": [
    "import datetime as dt"
   ]
  },
  {
   "cell_type": "code",
   "execution_count": 127,
   "metadata": {
    "collapsed": false
   },
   "outputs": [
    {
     "data": {
      "text/plain": [
       "'Mar. 9 2017'"
      ]
     },
     "execution_count": 127,
     "metadata": {},
     "output_type": "execute_result"
    }
   ],
   "source": [
    "a"
   ]
  },
  {
   "cell_type": "code",
   "execution_count": 129,
   "metadata": {
    "collapsed": false
   },
   "outputs": [],
   "source": [
    "from dateutil.parser import parse"
   ]
  },
  {
   "cell_type": "code",
   "execution_count": 132,
   "metadata": {
    "collapsed": true
   },
   "outputs": [],
   "source": [
    "dat=parse(a)"
   ]
  },
  {
   "cell_type": "code",
   "execution_count": 133,
   "metadata": {
    "collapsed": false
   },
   "outputs": [
    {
     "data": {
      "text/plain": [
       "datetime.datetime(2017, 3, 9, 0, 0)"
      ]
     },
     "execution_count": 133,
     "metadata": {},
     "output_type": "execute_result"
    }
   ],
   "source": [
    "dat"
   ]
  },
  {
   "cell_type": "code",
   "execution_count": 146,
   "metadata": {
    "collapsed": false
   },
   "outputs": [
    {
     "data": {
      "text/plain": [
       "'3/9/17'"
      ]
     },
     "execution_count": 146,
     "metadata": {},
     "output_type": "execute_result"
    }
   ],
   "source": [
    "dat.strftime('%-m/%-d/%y')"
   ]
  },
  {
   "cell_type": "code",
   "execution_count": 137,
   "metadata": {
    "collapsed": false
   },
   "outputs": [
    {
     "data": {
      "text/plain": [
       "'3/16/17'"
      ]
     },
     "execution_count": 137,
     "metadata": {},
     "output_type": "execute_result"
    }
   ],
   "source": [
    "market_data.Date[0]"
   ]
  },
  {
   "cell_type": "code",
   "execution_count": 139,
   "metadata": {
    "collapsed": false
   },
   "outputs": [
    {
     "data": {
      "text/plain": [
       "str"
      ]
     },
     "execution_count": 139,
     "metadata": {},
     "output_type": "execute_result"
    }
   ],
   "source": [
    "type(x)"
   ]
  },
  {
   "cell_type": "code",
   "execution_count": 181,
   "metadata": {
    "collapsed": false
   },
   "outputs": [],
   "source": [
    "A.drop('date',axis=1,inplace=True)\n",
    "A=A.fillna(0)\n",
    "A.y=map(lambda x:1 if x>0 else 0,A.y)"
   ]
  },
  {
   "cell_type": "code",
   "execution_count": 182,
   "metadata": {
    "collapsed": false
   },
   "outputs": [],
   "source": [
    "traintest=A.iloc[:,[1,2,3,4]]"
   ]
  },
  {
   "cell_type": "code",
   "execution_count": 183,
   "metadata": {
    "collapsed": true
   },
   "outputs": [],
   "source": [
    "y=A.loc[:,'y']"
   ]
  },
  {
   "cell_type": "code",
   "execution_count": 184,
   "metadata": {
    "collapsed": true
   },
   "outputs": [],
   "source": [
    "train_size=int(0.8*traintest.shape[0])\n",
    "x_train=traintest.iloc[-train_size:,:]"
   ]
  },
  {
   "cell_type": "code",
   "execution_count": 194,
   "metadata": {
    "collapsed": false
   },
   "outputs": [
    {
     "data": {
      "text/plain": [
       "484"
      ]
     },
     "execution_count": 194,
     "metadata": {},
     "output_type": "execute_result"
    }
   ],
   "source": [
    "train_size"
   ]
  },
  {
   "cell_type": "code",
   "execution_count": 186,
   "metadata": {
    "collapsed": false
   },
   "outputs": [
    {
     "data": {
      "text/plain": [
       "(484, 4)"
      ]
     },
     "execution_count": 186,
     "metadata": {},
     "output_type": "execute_result"
    }
   ],
   "source": [
    "x_train.shape"
   ]
  },
  {
   "cell_type": "code",
   "execution_count": 187,
   "metadata": {
    "collapsed": true
   },
   "outputs": [],
   "source": [
    "x_test=traintest.iloc[:(traintest.shape[0]-train_size),:]"
   ]
  },
  {
   "cell_type": "code",
   "execution_count": 189,
   "metadata": {
    "collapsed": false
   },
   "outputs": [
    {
     "data": {
      "text/plain": [
       "(121, 4)"
      ]
     },
     "execution_count": 189,
     "metadata": {},
     "output_type": "execute_result"
    }
   ],
   "source": [
    "x_test.shape"
   ]
  },
  {
   "cell_type": "code",
   "execution_count": 190,
   "metadata": {
    "collapsed": true
   },
   "outputs": [],
   "source": [
    "y=A.y"
   ]
  },
  {
   "cell_type": "code",
   "execution_count": 193,
   "metadata": {
    "collapsed": false
   },
   "outputs": [
    {
     "data": {
      "text/plain": [
       "121    1\n",
       "122    0\n",
       "123    0\n",
       "124    0\n",
       "125    0\n",
       "126    0\n",
       "127    1\n",
       "128    1\n",
       "129    0\n",
       "130    0\n",
       "131    0\n",
       "132    0\n",
       "133    0\n",
       "134    0\n",
       "135    0\n",
       "136    0\n",
       "137    1\n",
       "138    0\n",
       "139    1\n",
       "140    1\n",
       "141    1\n",
       "142    1\n",
       "143    1\n",
       "144    1\n",
       "145    1\n",
       "146    1\n",
       "147    1\n",
       "148    0\n",
       "149    1\n",
       "150    0\n",
       "      ..\n",
       "575    0\n",
       "576    1\n",
       "577    0\n",
       "578    0\n",
       "579    0\n",
       "580    0\n",
       "581    1\n",
       "582    1\n",
       "583    1\n",
       "584    0\n",
       "585    0\n",
       "586    1\n",
       "587    1\n",
       "588    0\n",
       "589    0\n",
       "590    1\n",
       "591    1\n",
       "592    0\n",
       "593    0\n",
       "594    1\n",
       "595    0\n",
       "596    0\n",
       "597    1\n",
       "598    0\n",
       "599    0\n",
       "600    0\n",
       "601    0\n",
       "602    0\n",
       "603    0\n",
       "604    0\n",
       "Name: y, dtype: int64"
      ]
     },
     "execution_count": 193,
     "metadata": {},
     "output_type": "execute_result"
    }
   ],
   "source": [
    "y.iloc[-train_size:]"
   ]
  },
  {
   "cell_type": "code",
   "execution_count": null,
   "metadata": {
    "collapsed": true
   },
   "outputs": [],
   "source": []
  }
 ],
 "metadata": {
  "anaconda-cloud": {},
  "kernelspec": {
   "display_name": "Python 2",
   "language": "python",
   "name": "python2"
  },
  "language_info": {
   "codemirror_mode": {
    "name": "ipython",
    "version": 2
   },
   "file_extension": ".py",
   "mimetype": "text/x-python",
   "name": "python",
   "nbconvert_exporter": "python",
   "pygments_lexer": "ipython2",
   "version": "2.7.12"
  }
 },
 "nbformat": 4,
 "nbformat_minor": 1
}
