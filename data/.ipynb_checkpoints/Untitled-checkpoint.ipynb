{
 "cells": [
  {
   "cell_type": "code",
   "execution_count": 44,
   "metadata": {
    "collapsed": true
   },
   "outputs": [],
   "source": [
    "import pandas as pd"
   ]
  },
  {
   "cell_type": "code",
   "execution_count": 61,
   "metadata": {
    "collapsed": false
   },
   "outputs": [],
   "source": [
    "data=open('BAC.csv')"
   ]
  },
  {
   "cell_type": "code",
   "execution_count": 62,
   "metadata": {
    "collapsed": false
   },
   "outputs": [],
   "source": [
    "dat=data.read()"
   ]
  },
  {
   "cell_type": "code",
   "execution_count": 63,
   "metadata": {
    "collapsed": false
   },
   "outputs": [],
   "source": [
    "array=dat.split('|')"
   ]
  },
  {
   "cell_type": "code",
   "execution_count": 148,
   "metadata": {
    "collapsed": false
   },
   "outputs": [],
   "source": [
    "date=[]\n",
    "content=[]\n",
    "for i in range(2,len(array)-1):\n",
    "    if len(array[i])<30:\n",
    "        date.append(array[i])\n",
    "    else:\n",
    "        content.append(array[i])\n",
    "dic={}\n",
    "dic['date']=date\n",
    "dic['content']=content\n",
    "df=pd.DataFrame(dic)\n",
    "    "
   ]
  },
  {
   "cell_type": "code",
   "execution_count": 95,
   "metadata": {
    "collapsed": false
   },
   "outputs": [],
   "source": [
    "y=range(2007,2017)"
   ]
  },
  {
   "cell_type": "code",
   "execution_count": 96,
   "metadata": {
    "collapsed": false
   },
   "outputs": [],
   "source": [
    "year=map(lambda x: str(x), y)"
   ]
  },
  {
   "cell_type": "code",
   "execution_count": 147,
   "metadata": {
    "collapsed": false
   },
   "outputs": [],
   "source": [
    "def date_transform(df):\n",
    "\tdate=df.date\n",
    "\ty=range(2007,2017)\n",
    "\tyear=map(lambda x: str(x), y)\n",
    "\n",
    "\t\n",
    "\treal_date=[]\n",
    "\tfor i in range(len(date)):\n",
    "\t\tif any(word in date[i] for word in year):\n",
    "\t\t\td=date[i].split(',')[0]+date[i].split(',')[1]\n",
    "\t\t\tdat=parse(d).strftime('%-m/%-d/%y')\n",
    "\t\t####has year#####\n",
    "\t\t\treal_date.append(dat)\n",
    "\t\telse:\n",
    "\t\t\td=date[i].split(',')[1]+' 2017'\n",
    "\t\t\tdat=parse(d).strftime('%-m/%-d/%y')\n",
    "\t\t\treal_date.append(dat)\n",
    "\tj=0\n",
    "\twhile ':' in real_date[j]:\n",
    "\t\tj=j+1\n",
    "\tdf.date=real_date\n",
    "\tdf=df.iloc[j:,:]\n",
    "\treturn df"
   ]
  },
  {
   "cell_type": "code",
   "execution_count": 149,
   "metadata": {
    "collapsed": false
   },
   "outputs": [],
   "source": [
    "market_data=pd.read_csv('../dev/table.csv',header=0)"
   ]
  },
  {
   "cell_type": "code",
   "execution_count": 150,
   "metadata": {
    "collapsed": false
   },
   "outputs": [],
   "source": [
    "df=date_transform(df)"
   ]
  },
  {
   "cell_type": "code",
   "execution_count": 151,
   "metadata": {
    "collapsed": false
   },
   "outputs": [
    {
     "data": {
      "text/html": [
       "<div>\n",
       "<table border=\"1\" class=\"dataframe\">\n",
       "  <thead>\n",
       "    <tr style=\"text-align: right;\">\n",
       "      <th></th>\n",
       "      <th>content</th>\n",
       "      <th>date</th>\n",
       "    </tr>\n",
       "  </thead>\n",
       "  <tbody>\n",
       "    <tr>\n",
       "      <th>0</th>\n",
       "      <td>Bank of America cut to Sell at Compass Point\\n...</td>\n",
       "      <td>3/18/17</td>\n",
       "    </tr>\n",
       "    <tr>\n",
       "      <th>1</th>\n",
       "      <td>Banks head lower following rate hike\\n\\nThe ma...</td>\n",
       "      <td>3/18/17</td>\n",
       "    </tr>\n",
       "    <tr>\n",
       "      <th>2</th>\n",
       "      <td>Bureaucracy 1, Dodd-Frank reformers 0\\n\\nFor n...</td>\n",
       "      <td>3/9/17</td>\n",
       "    </tr>\n",
       "    <tr>\n",
       "      <th>3</th>\n",
       "      <td>Another big day for financials on tap after AD...</td>\n",
       "      <td>3/8/17</td>\n",
       "    </tr>\n",
       "    <tr>\n",
       "      <th>4</th>\n",
       "      <td>BofA funding puts Raiders Las Vegas move back ...</td>\n",
       "      <td>3/7/17</td>\n",
       "    </tr>\n",
       "    <tr>\n",
       "      <th>5</th>\n",
       "      <td>Groundhog day: Financials outperform\\n\\nThe ma...</td>\n",
       "      <td>3/3/17</td>\n",
       "    </tr>\n",
       "    <tr>\n",
       "      <th>6</th>\n",
       "      <td>Market has not fully rewarded some Trump-trade...</td>\n",
       "      <td>3/2/17</td>\n",
       "    </tr>\n",
       "    <tr>\n",
       "      <th>7</th>\n",
       "      <td>Invesco Equity and Income Fund A (ACEIX) Febru...</td>\n",
       "      <td>3/2/17</td>\n",
       "    </tr>\n",
       "    <tr>\n",
       "      <th>8</th>\n",
       "      <td>Bank fine tally since financial crisis\\n\\nBank...</td>\n",
       "      <td>3/2/17</td>\n",
       "    </tr>\n",
       "    <tr>\n",
       "      <th>9</th>\n",
       "      <td>Banks set for big rally as March rate hike may...</td>\n",
       "      <td>3/1/17</td>\n",
       "    </tr>\n",
       "    <tr>\n",
       "      <th>10</th>\n",
       "      <td>Bank of America goes ex-dividend tomorrow\\n\\nB...</td>\n",
       "      <td>2/28/17</td>\n",
       "    </tr>\n",
       "    <tr>\n",
       "      <th>11</th>\n",
       "      <td>Defending buybacks, bullish on BofA, and other...</td>\n",
       "      <td>2/25/17</td>\n",
       "    </tr>\n",
       "    <tr>\n",
       "      <th>12</th>\n",
       "      <td>Banks give some back as rates sink to 2017 low...</td>\n",
       "      <td>2/24/17</td>\n",
       "    </tr>\n",
       "    <tr>\n",
       "      <th>13</th>\n",
       "      <td>Another 20% upside in BofA - Morgan Stanley\\n\\...</td>\n",
       "      <td>2/21/17</td>\n",
       "    </tr>\n",
       "    <tr>\n",
       "      <th>14</th>\n",
       "      <td>Banks move to overhaul money laundering rules ...</td>\n",
       "      <td>2/16/17</td>\n",
       "    </tr>\n",
       "    <tr>\n",
       "      <th>15</th>\n",
       "      <td>Party continues for big banks: BofA leads with...</td>\n",
       "      <td>2/15/17</td>\n",
       "    </tr>\n",
       "    <tr>\n",
       "      <th>16</th>\n",
       "      <td>Dollar, banks on the move as Yellen leans hawk...</td>\n",
       "      <td>2/14/17</td>\n",
       "    </tr>\n",
       "    <tr>\n",
       "      <th>17</th>\n",
       "      <td>Loeb buys banks; pharma, Alibaba among sales\\n...</td>\n",
       "      <td>2/10/17</td>\n",
       "    </tr>\n",
       "    <tr>\n",
       "      <th>18</th>\n",
       "      <td>Lenders lead advance as House's Hensarling lay...</td>\n",
       "      <td>2/9/17</td>\n",
       "    </tr>\n",
       "    <tr>\n",
       "      <th>19</th>\n",
       "      <td>Fiduciary rule still in focus\\n\\nA Dallas fede...</td>\n",
       "      <td>2/9/17</td>\n",
       "    </tr>\n",
       "    <tr>\n",
       "      <th>20</th>\n",
       "      <td>BofA opens branches without employees\\n\\nBank ...</td>\n",
       "      <td>2/8/17</td>\n",
       "    </tr>\n",
       "    <tr>\n",
       "      <th>21</th>\n",
       "      <td>Banks and asset managers higher as Trump takes...</td>\n",
       "      <td>2/3/17</td>\n",
       "    </tr>\n",
       "    <tr>\n",
       "      <th>22</th>\n",
       "      <td>Invesco Equity and Income Fund A (ACEIX) Janua...</td>\n",
       "      <td>2/3/17</td>\n",
       "    </tr>\n",
       "    <tr>\n",
       "      <th>23</th>\n",
       "      <td>Trump to undo Dodd-Frank, fiduciary rule\\n\\nRe...</td>\n",
       "      <td>2/3/17</td>\n",
       "    </tr>\n",
       "    <tr>\n",
       "      <th>24</th>\n",
       "      <td>Merrill Lynch boosting fee disclosures\\n\\nAhea...</td>\n",
       "      <td>1/31/17</td>\n",
       "    </tr>\n",
       "    <tr>\n",
       "      <th>25</th>\n",
       "      <td>Banks lead decline on Wall Street\\n\\nThe KBE a...</td>\n",
       "      <td>1/30/17</td>\n",
       "    </tr>\n",
       "    <tr>\n",
       "      <th>26</th>\n",
       "      <td>Opportunity for other card companies as CapOne...</td>\n",
       "      <td>1/26/17</td>\n",
       "    </tr>\n",
       "    <tr>\n",
       "      <th>27</th>\n",
       "      <td>Wall Street moves south\\n\\nKnown as \"nearshori...</td>\n",
       "      <td>1/25/17</td>\n",
       "    </tr>\n",
       "    <tr>\n",
       "      <th>28</th>\n",
       "      <td>Rejection of Aetna/Humana deal could cast pall...</td>\n",
       "      <td>1/24/17</td>\n",
       "    </tr>\n",
       "    <tr>\n",
       "      <th>29</th>\n",
       "      <td>Son of ABX coming to Wall Street\\n\\nJPMorgan (...</td>\n",
       "      <td>1/24/17</td>\n",
       "    </tr>\n",
       "    <tr>\n",
       "      <th>...</th>\n",
       "      <td>...</td>\n",
       "      <td>...</td>\n",
       "    </tr>\n",
       "    <tr>\n",
       "      <th>594</th>\n",
       "      <td>Ruling on BofA's $8.5B MBS settlement coming s...</td>\n",
       "      <td>1/21/14</td>\n",
       "    </tr>\n",
       "    <tr>\n",
       "      <th>595</th>\n",
       "      <td>New York drops effort to win damages from BofA...</td>\n",
       "      <td>1/19/14</td>\n",
       "    </tr>\n",
       "    <tr>\n",
       "      <th>596</th>\n",
       "      <td>Banks stay mum on litigation reserves\\n\\n\\nNot...</td>\n",
       "      <td>1/17/14</td>\n",
       "    </tr>\n",
       "    <tr>\n",
       "      <th>597</th>\n",
       "      <td>BofA price target hiked at Jefferies\\n\\n\\n\"Pos...</td>\n",
       "      <td>1/16/14</td>\n",
       "    </tr>\n",
       "    <tr>\n",
       "      <th>598</th>\n",
       "      <td>BofA branch declines continue as mobile bankin...</td>\n",
       "      <td>1/15/14</td>\n",
       "    </tr>\n",
       "    <tr>\n",
       "      <th>599</th>\n",
       "      <td>Big quarter for BofA detailed in earnings call...</td>\n",
       "      <td>1/15/14</td>\n",
       "    </tr>\n",
       "    <tr>\n",
       "      <th>600</th>\n",
       "      <td>BofA up 2% premarket after Q4 results\\n\\n\\nNet...</td>\n",
       "      <td>1/15/14</td>\n",
       "    </tr>\n",
       "    <tr>\n",
       "      <th>601</th>\n",
       "      <td>Bank of America Corporation beats by $0.03, be...</td>\n",
       "      <td>1/15/14</td>\n",
       "    </tr>\n",
       "    <tr>\n",
       "      <th>602</th>\n",
       "      <td>Notable earnings before Wednesday’s open\\n\\n  ...</td>\n",
       "      <td>1/15/14</td>\n",
       "    </tr>\n",
       "    <tr>\n",
       "      <th>603</th>\n",
       "      <td>Notable earnings before Wednesday’s open\\n\\n  ...</td>\n",
       "      <td>1/14/14</td>\n",
       "    </tr>\n",
       "    <tr>\n",
       "      <th>604</th>\n",
       "      <td>Nomura likes BofA and Citi as it starts covera...</td>\n",
       "      <td>1/9/14</td>\n",
       "    </tr>\n",
       "    <tr>\n",
       "      <th>605</th>\n",
       "      <td>Credit card portfolio growing at BofA\\n\\n\\nLen...</td>\n",
       "      <td>1/8/14</td>\n",
       "    </tr>\n",
       "    <tr>\n",
       "      <th>606</th>\n",
       "      <td>Largest lenders cementing their market share\\n...</td>\n",
       "      <td>1/5/14</td>\n",
       "    </tr>\n",
       "    <tr>\n",
       "      <th>607</th>\n",
       "      <td>Big start to year has BofA at highest since 20...</td>\n",
       "      <td>1/3/14</td>\n",
       "    </tr>\n",
       "    <tr>\n",
       "      <th>608</th>\n",
       "      <td>More on Citi's bullish BofA call\\n\\n\\nTrading ...</td>\n",
       "      <td>1/2/14</td>\n",
       "    </tr>\n",
       "    <tr>\n",
       "      <th>609</th>\n",
       "      <td>BofA boosted to Buy at Citi\\n\\n\\nBank of Ameri...</td>\n",
       "      <td>1/2/14</td>\n",
       "    </tr>\n",
       "    <tr>\n",
       "      <th>610</th>\n",
       "      <td>DOJ reportedly set to file civil fraud charges...</td>\n",
       "      <td>12/17/13</td>\n",
       "    </tr>\n",
       "    <tr>\n",
       "      <th>611</th>\n",
       "      <td>Banks could face tougher stress tests next yea...</td>\n",
       "      <td>12/17/13</td>\n",
       "    </tr>\n",
       "    <tr>\n",
       "      <th>612</th>\n",
       "      <td>Merrill to pay $131.8M to settle SEC CDO claim...</td>\n",
       "      <td>12/12/13</td>\n",
       "    </tr>\n",
       "    <tr>\n",
       "      <th>613</th>\n",
       "      <td>Moynihan optimistic on NII going forward\\n\\n\\n...</td>\n",
       "      <td>12/10/13</td>\n",
       "    </tr>\n",
       "    <tr>\n",
       "      <th>614</th>\n",
       "      <td>Details of Volcker rule set to be unveiled\\n\\n...</td>\n",
       "      <td>12/10/13</td>\n",
       "    </tr>\n",
       "    <tr>\n",
       "      <th>615</th>\n",
       "      <td>Judge OKs $500M BofA deal with pension funds o...</td>\n",
       "      <td>12/8/13</td>\n",
       "    </tr>\n",
       "    <tr>\n",
       "      <th>616</th>\n",
       "      <td>Blow to banks' hedging in Volcker Rule\\n\\n\\nTh...</td>\n",
       "      <td>12/5/13</td>\n",
       "    </tr>\n",
       "    <tr>\n",
       "      <th>617</th>\n",
       "      <td>DOJ plans more MBS fraud cases in New Year\\n\\n...</td>\n",
       "      <td>12/5/13</td>\n",
       "    </tr>\n",
       "    <tr>\n",
       "      <th>618</th>\n",
       "      <td>Banks cited for non-compliance with mortgage s...</td>\n",
       "      <td>12/4/13</td>\n",
       "    </tr>\n",
       "    <tr>\n",
       "      <th>619</th>\n",
       "      <td>Banks about to get clarity on prop trading\\n\\n...</td>\n",
       "      <td>12/3/13</td>\n",
       "    </tr>\n",
       "    <tr>\n",
       "      <th>620</th>\n",
       "      <td>Banks expect to make mortgages outside of new ...</td>\n",
       "      <td>12/3/13</td>\n",
       "    </tr>\n",
       "    <tr>\n",
       "      <th>621</th>\n",
       "      <td>BofA settles with Freddie Mac for $404M\\n\\n\\nT...</td>\n",
       "      <td>12/2/13</td>\n",
       "    </tr>\n",
       "    <tr>\n",
       "      <th>622</th>\n",
       "      <td>Additional legal tab for banks could exceed $1...</td>\n",
       "      <td>11/27/13</td>\n",
       "    </tr>\n",
       "    <tr>\n",
       "      <th>623</th>\n",
       "      <td>Top U.S. banks face further mortgage payouts o...</td>\n",
       "      <td>11/27/13</td>\n",
       "    </tr>\n",
       "  </tbody>\n",
       "</table>\n",
       "<p>624 rows × 2 columns</p>\n",
       "</div>"
      ],
      "text/plain": [
       "                                               content      date\n",
       "0    Bank of America cut to Sell at Compass Point\\n...   3/18/17\n",
       "1    Banks head lower following rate hike\\n\\nThe ma...   3/18/17\n",
       "2    Bureaucracy 1, Dodd-Frank reformers 0\\n\\nFor n...    3/9/17\n",
       "3    Another big day for financials on tap after AD...    3/8/17\n",
       "4    BofA funding puts Raiders Las Vegas move back ...    3/7/17\n",
       "5    Groundhog day: Financials outperform\\n\\nThe ma...    3/3/17\n",
       "6    Market has not fully rewarded some Trump-trade...    3/2/17\n",
       "7    Invesco Equity and Income Fund A (ACEIX) Febru...    3/2/17\n",
       "8    Bank fine tally since financial crisis\\n\\nBank...    3/2/17\n",
       "9    Banks set for big rally as March rate hike may...    3/1/17\n",
       "10   Bank of America goes ex-dividend tomorrow\\n\\nB...   2/28/17\n",
       "11   Defending buybacks, bullish on BofA, and other...   2/25/17\n",
       "12   Banks give some back as rates sink to 2017 low...   2/24/17\n",
       "13   Another 20% upside in BofA - Morgan Stanley\\n\\...   2/21/17\n",
       "14   Banks move to overhaul money laundering rules ...   2/16/17\n",
       "15   Party continues for big banks: BofA leads with...   2/15/17\n",
       "16   Dollar, banks on the move as Yellen leans hawk...   2/14/17\n",
       "17   Loeb buys banks; pharma, Alibaba among sales\\n...   2/10/17\n",
       "18   Lenders lead advance as House's Hensarling lay...    2/9/17\n",
       "19   Fiduciary rule still in focus\\n\\nA Dallas fede...    2/9/17\n",
       "20   BofA opens branches without employees\\n\\nBank ...    2/8/17\n",
       "21   Banks and asset managers higher as Trump takes...    2/3/17\n",
       "22   Invesco Equity and Income Fund A (ACEIX) Janua...    2/3/17\n",
       "23   Trump to undo Dodd-Frank, fiduciary rule\\n\\nRe...    2/3/17\n",
       "24   Merrill Lynch boosting fee disclosures\\n\\nAhea...   1/31/17\n",
       "25   Banks lead decline on Wall Street\\n\\nThe KBE a...   1/30/17\n",
       "26   Opportunity for other card companies as CapOne...   1/26/17\n",
       "27   Wall Street moves south\\n\\nKnown as \"nearshori...   1/25/17\n",
       "28   Rejection of Aetna/Humana deal could cast pall...   1/24/17\n",
       "29   Son of ABX coming to Wall Street\\n\\nJPMorgan (...   1/24/17\n",
       "..                                                 ...       ...\n",
       "594  Ruling on BofA's $8.5B MBS settlement coming s...   1/21/14\n",
       "595  New York drops effort to win damages from BofA...   1/19/14\n",
       "596  Banks stay mum on litigation reserves\\n\\n\\nNot...   1/17/14\n",
       "597  BofA price target hiked at Jefferies\\n\\n\\n\"Pos...   1/16/14\n",
       "598  BofA branch declines continue as mobile bankin...   1/15/14\n",
       "599  Big quarter for BofA detailed in earnings call...   1/15/14\n",
       "600  BofA up 2% premarket after Q4 results\\n\\n\\nNet...   1/15/14\n",
       "601  Bank of America Corporation beats by $0.03, be...   1/15/14\n",
       "602  Notable earnings before Wednesday’s open\\n\\n  ...   1/15/14\n",
       "603  Notable earnings before Wednesday’s open\\n\\n  ...   1/14/14\n",
       "604  Nomura likes BofA and Citi as it starts covera...    1/9/14\n",
       "605  Credit card portfolio growing at BofA\\n\\n\\nLen...    1/8/14\n",
       "606  Largest lenders cementing their market share\\n...    1/5/14\n",
       "607  Big start to year has BofA at highest since 20...    1/3/14\n",
       "608  More on Citi's bullish BofA call\\n\\n\\nTrading ...    1/2/14\n",
       "609  BofA boosted to Buy at Citi\\n\\n\\nBank of Ameri...    1/2/14\n",
       "610  DOJ reportedly set to file civil fraud charges...  12/17/13\n",
       "611  Banks could face tougher stress tests next yea...  12/17/13\n",
       "612  Merrill to pay $131.8M to settle SEC CDO claim...  12/12/13\n",
       "613  Moynihan optimistic on NII going forward\\n\\n\\n...  12/10/13\n",
       "614  Details of Volcker rule set to be unveiled\\n\\n...  12/10/13\n",
       "615  Judge OKs $500M BofA deal with pension funds o...   12/8/13\n",
       "616  Blow to banks' hedging in Volcker Rule\\n\\n\\nTh...   12/5/13\n",
       "617  DOJ plans more MBS fraud cases in New Year\\n\\n...   12/5/13\n",
       "618  Banks cited for non-compliance with mortgage s...   12/4/13\n",
       "619  Banks about to get clarity on prop trading\\n\\n...   12/3/13\n",
       "620  Banks expect to make mortgages outside of new ...   12/3/13\n",
       "621  BofA settles with Freddie Mac for $404M\\n\\n\\nT...   12/2/13\n",
       "622  Additional legal tab for banks could exceed $1...  11/27/13\n",
       "623  Top U.S. banks face further mortgage payouts o...  11/27/13\n",
       "\n",
       "[624 rows x 2 columns]"
      ]
     },
     "execution_count": 151,
     "metadata": {},
     "output_type": "execute_result"
    }
   ],
   "source": []
  },
  {
   "cell_type": "code",
   "execution_count": 134,
   "metadata": {
    "collapsed": false
   },
   "outputs": [],
   "source": [
    "import datetime as dt"
   ]
  },
  {
   "cell_type": "code",
   "execution_count": 127,
   "metadata": {
    "collapsed": false
   },
   "outputs": [
    {
     "data": {
      "text/plain": [
       "'Mar. 9 2017'"
      ]
     },
     "execution_count": 127,
     "metadata": {},
     "output_type": "execute_result"
    }
   ],
   "source": [
    "a"
   ]
  },
  {
   "cell_type": "code",
   "execution_count": 129,
   "metadata": {
    "collapsed": false
   },
   "outputs": [],
   "source": [
    "from dateutil.parser import parse"
   ]
  },
  {
   "cell_type": "code",
   "execution_count": 132,
   "metadata": {
    "collapsed": true
   },
   "outputs": [],
   "source": [
    "dat=parse(a)"
   ]
  },
  {
   "cell_type": "code",
   "execution_count": 133,
   "metadata": {
    "collapsed": false
   },
   "outputs": [
    {
     "data": {
      "text/plain": [
       "datetime.datetime(2017, 3, 9, 0, 0)"
      ]
     },
     "execution_count": 133,
     "metadata": {},
     "output_type": "execute_result"
    }
   ],
   "source": [
    "dat"
   ]
  },
  {
   "cell_type": "code",
   "execution_count": 146,
   "metadata": {
    "collapsed": false
   },
   "outputs": [
    {
     "data": {
      "text/plain": [
       "'3/9/17'"
      ]
     },
     "execution_count": 146,
     "metadata": {},
     "output_type": "execute_result"
    }
   ],
   "source": [
    "dat.strftime('%-m/%-d/%y')"
   ]
  },
  {
   "cell_type": "code",
   "execution_count": 137,
   "metadata": {
    "collapsed": false
   },
   "outputs": [
    {
     "data": {
      "text/plain": [
       "'3/16/17'"
      ]
     },
     "execution_count": 137,
     "metadata": {},
     "output_type": "execute_result"
    }
   ],
   "source": [
    "market_data.Date[0]"
   ]
  },
  {
   "cell_type": "code",
   "execution_count": 139,
   "metadata": {
    "collapsed": false
   },
   "outputs": [
    {
     "data": {
      "text/plain": [
       "str"
      ]
     },
     "execution_count": 139,
     "metadata": {},
     "output_type": "execute_result"
    }
   ],
   "source": [
    "type(x)"
   ]
  },
  {
   "cell_type": "code",
   "execution_count": null,
   "metadata": {
    "collapsed": true
   },
   "outputs": [],
   "source": []
  }
 ],
 "metadata": {
  "anaconda-cloud": {},
  "kernelspec": {
   "display_name": "Python 2",
   "language": "python",
   "name": "python2"
  },
  "language_info": {
   "codemirror_mode": {
    "name": "ipython",
    "version": 2
   },
   "file_extension": ".py",
   "mimetype": "text/x-python",
   "name": "python",
   "nbconvert_exporter": "python",
   "pygments_lexer": "ipython2",
   "version": "2.7.12"
  }
 },
 "nbformat": 4,
 "nbformat_minor": 1
}
