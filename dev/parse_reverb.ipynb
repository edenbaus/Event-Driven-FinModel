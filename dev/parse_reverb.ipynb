{
 "cells": [
  {
   "cell_type": "code",
   "execution_count": 1,
   "metadata": {
    "collapsed": true
   },
   "outputs": [],
   "source": [
    "import pandas as pd"
   ]
  },
  {
   "cell_type": "code",
   "execution_count": 2,
   "metadata": {
    "collapsed": true
   },
   "outputs": [],
   "source": [
    "data=pd.read_csv(\"BACreverb.csv\")"
   ]
  },
  {
   "cell_type": "code",
   "execution_count": 25,
   "metadata": {
    "collapsed": false
   },
   "outputs": [],
   "source": [
    "sample=data.reverb[0]"
   ]
  },
  {
   "cell_type": "code",
   "execution_count": 27,
   "metadata": {
    "collapsed": false
   },
   "outputs": [],
   "source": [
    "reverb_list=sample.split(\"\\n\")"
   ]
  },
  {
   "cell_type": "code",
   "execution_count": 29,
   "metadata": {
    "collapsed": false
   },
   "outputs": [
    {
     "name": "stdout",
     "output_type": "stream",
     "text": [
      "0.350678376498 \n",
      "\n",
      "a strong q1 \n",
      "\n",
      "say \n",
      "\n",
      "analyst charles peabody \n",
      "\n",
      "0.34430293148 \n",
      "\n",
      "the rest of the year \n",
      "\n",
      "be for \n",
      "\n",
      "little eps growth. \n",
      "\n",
      "0.337810376071 \n",
      "\n",
      "the stock 's \n",
      "\n",
      "double over \n",
      "\n",
      "the past # months \n",
      "\n",
      "0.324084856499 \n",
      "\n",
      "a lot of that \n",
      "\n",
      "be thanks to \n",
      "\n",
      "higher interest rates \n",
      "\n",
      "0.252276936696 \n",
      "\n",
      "higher interest rates \n",
      "\n",
      "price in \n",
      "\n",
      "well \n",
      "\n",
      "0.777633421464 \n",
      "\n",
      "interest rate normalization \n",
      "\n",
      "affect \n",
      "\n",
      "costs \n",
      "\n",
      "0.586253802386 \n",
      "\n",
      "those \n",
      "\n",
      "double under \n",
      "\n",
      "the new regime \n",
      "\n",
      "0.508763482206 \n",
      "\n",
      "shares \n",
      "\n",
      "be \n",
      "\n",
      "aggressive buybacks \n",
      "\n",
      "0.557255255399 \n",
      "\n",
      "$ # price target \n",
      "\n",
      "suggest more than \n",
      "\n",
      "# % downside \n",
      "\n"
     ]
    }
   ],
   "source": [
    "for i in range(len(reverb_list)-1):\n",
    "\tbuf=reverb_list[i].split('\\t')\n",
    "\tprint float(buf[11]), '\\n'\n",
    "\tprint buf[-3], '\\n'\n",
    "\tprint buf[-2], '\\n'\n",
    "\tprint buf[-1], '\\n'"
   ]
  },
  {
   "cell_type": "code",
   "execution_count": 21,
   "metadata": {
    "collapsed": false
   },
   "outputs": [
    {
     "data": {
      "text/plain": [
       "'the rest of the year'"
      ]
     },
     "execution_count": 21,
     "metadata": {},
     "output_type": "execute_result"
    }
   ],
   "source": [
    "sample_each.split(\"\\t\")[-3]"
   ]
  },
  {
   "cell_type": "code",
   "execution_count": 19,
   "metadata": {
    "collapsed": false
   },
   "outputs": [
    {
     "data": {
      "text/plain": [
       "'u'"
      ]
     },
     "execution_count": 19,
     "metadata": {},
     "output_type": "execute_result"
    }
   ],
   "source": [
    "sample_each[11]"
   ]
  },
  {
   "cell_type": "code",
   "execution_count": 23,
   "metadata": {
    "collapsed": false
   },
   "outputs": [],
   "source": [
    "a=[0.1,0.3,0.5,0.2]\n"
   ]
  },
  {
   "cell_type": "code",
   "execution_count": 24,
   "metadata": {
    "collapsed": false
   },
   "outputs": [
    {
     "data": {
      "text/plain": [
       "2"
      ]
     },
     "execution_count": 24,
     "metadata": {},
     "output_type": "execute_result"
    }
   ],
   "source": [
    "import numpy as np\n",
    "np.argmax(a)"
   ]
  },
  {
   "cell_type": "code",
   "execution_count": null,
   "metadata": {
    "collapsed": true
   },
   "outputs": [],
   "source": []
  }
 ],
 "metadata": {
  "anaconda-cloud": {},
  "kernelspec": {
   "display_name": "Python 2",
   "language": "python",
   "name": "python2"
  },
  "language_info": {
   "codemirror_mode": {
    "name": "ipython",
    "version": 2
   },
   "file_extension": ".py",
   "mimetype": "text/x-python",
   "name": "python",
   "nbconvert_exporter": "python",
   "pygments_lexer": "ipython2",
   "version": "2.7.12"
  }
 },
 "nbformat": 4,
 "nbformat_minor": 1
}
