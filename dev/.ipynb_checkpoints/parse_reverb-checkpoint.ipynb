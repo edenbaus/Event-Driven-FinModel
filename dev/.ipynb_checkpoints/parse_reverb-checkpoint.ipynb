{
 "cells": [
  {
   "cell_type": "code",
   "execution_count": 1,
   "metadata": {
    "collapsed": false
   },
   "outputs": [
    {
     "ename": "ImportError",
     "evalue": "No module named textblob",
     "output_type": "error",
     "traceback": [
      "\u001b[0;31m---------------------------------------------------------------------------\u001b[0m",
      "\u001b[0;31mImportError\u001b[0m                               Traceback (most recent call last)",
      "\u001b[0;32m<ipython-input-1-f8a4027e976a>\u001b[0m in \u001b[0;36m<module>\u001b[0;34m()\u001b[0m\n\u001b[1;32m      3\u001b[0m \u001b[0;34m\u001b[0m\u001b[0m\n\u001b[1;32m      4\u001b[0m \u001b[0;32mimport\u001b[0m \u001b[0mpandas\u001b[0m \u001b[0;32mas\u001b[0m \u001b[0mpd\u001b[0m\u001b[0;34m\u001b[0m\u001b[0m\n\u001b[0;32m----> 5\u001b[0;31m \u001b[0;32mfrom\u001b[0m \u001b[0mtextblob\u001b[0m \u001b[0;32mimport\u001b[0m \u001b[0mTextBlob\u001b[0m\u001b[0;34m\u001b[0m\u001b[0m\n\u001b[0m\u001b[1;32m      6\u001b[0m \u001b[0;32mimport\u001b[0m \u001b[0msys\u001b[0m\u001b[0;34m\u001b[0m\u001b[0m\n\u001b[1;32m      7\u001b[0m \u001b[0;32mimport\u001b[0m \u001b[0mdatetime\u001b[0m \u001b[0;32mas\u001b[0m \u001b[0mdt\u001b[0m\u001b[0;34m\u001b[0m\u001b[0m\n",
      "\u001b[0;31mImportError\u001b[0m: No module named textblob"
     ]
    }
   ],
   "source": [
    "### this file is used to add sentiment polarity in existing dataframe\n",
    "### input: pandas dataframe with date, news title, news content \n",
    "\n",
    "import pandas as pd\n",
    "from textblob import TextBlob\n",
    "import sys  \n",
    "import datetime as dt\n",
    "from dateutil.parser import parse\n",
    "reload(sys)  \n",
    "sys.setdefaultencoding('utf8')\n",
    "def senti():\n",
    "\tticker, data=parse_1()\n",
    "\tPolarity = map(lambda x: TextBlob(x),data.content)\n",
    "\tresult=[]\n",
    "\tfor i in range(len(Polarity)):\n",
    "\t\tk = Polarity[i].sentiment.polarity\n",
    "\t\tresult.append(k)\n",
    "\tdata['polarity']=result\n",
    "\tdf=date_transform(data)\n",
    "\t####################transform data to standard structure###############\n",
    "\treturn ticker,data\n",
    "\n",
    "def parse_1():\n",
    "\tTicker=raw_input('please input ticker: ')\n",
    "\tdata=open('../data/'+Ticker+'.csv')\n",
    "\tarray=data.read().split('|')\n",
    "\tdate=[]\n",
    "\tcontent=[]\n",
    "\tfor i in range(2,len(array)-1):\n",
    "\t\tif len(array[i])<30:\n",
    "\t\t\tdate.append(array[i])\n",
    "\t\telse:\n",
    "\t\t\tcontent.append(array[i])\n",
    "\tdic={}\n",
    "\tdic['date']=date\n",
    "\tdic['content']=content\n",
    "\tdf=pd.DataFrame(dic)\n",
    "\treturn Ticker,df\n",
    "\n",
    "def date_transform(df):\n",
    "\tdate=df.date\n",
    "\ty=range(2007,2017)\n",
    "\tyear=map(lambda x: str(x), y)\n",
    "\n",
    "\t\n",
    "\treal_date=[]\n",
    "\tfor i in range(len(date)):\n",
    "\t\tif any(word in date[i] for word in year):\n",
    "\t\t\td=date[i].split(',')[0]+date[i].split(',')[1]\n",
    "\t\t\tdat=parse(d).strftime('%-m/%-d/%y')\n",
    "\t\t####has year#####\n",
    "\t\t\treal_date.append(dat)\n",
    "\t\telse:\n",
    "\t\t\td=date[i].split(',')[1]+' 2017'\n",
    "\t\t\tdat=parse(d).strftime('%-m/%-d/%y')\n",
    "\t\t\treal_date.append(dat)\n",
    "\tj=0\n",
    "\twhile ':' in real_date[j]:\n",
    "\t\tj=j+1\n",
    "\tdf.date=real_date\n",
    "\tdf=df.iloc[j:,:]\n",
    "\treturn df\n",
    "\n",
    "\n",
    "\n"
   ]
  },
  {
   "cell_type": "code",
   "execution_count": 5,
   "metadata": {
    "collapsed": false
   },
   "outputs": [],
   "source": [
    "ticker=\"BAC\"\n",
    "market_data=pd.read_csv('../data/Price/'+ticker+'.csv',header=0)"
   ]
  },
  {
   "cell_type": "code",
   "execution_count": 7,
   "metadata": {
    "collapsed": false
   },
   "outputs": [],
   "source": [
    "def parse_1():\n",
    "\tTicker=\"BAC\"\n",
    "\tdata=open('../data/'+Ticker+'.csv')\n",
    "\tarray=data.read().split('|')\n",
    "\tdate=[]\n",
    "\tcontent=[]\n",
    "\tfor i in range(2,len(array)-1):\n",
    "\t\tif len(array[i])<30:\n",
    "\t\t\tdate.append(array[i])\n",
    "\t\telse:\n",
    "\t\t\tcontent.append(array[i])\n",
    "\tdic={}\n",
    "\tdic['date']=date\n",
    "\tdic['content']=content\n",
    "\tdf=pd.DataFrame(dic)\n",
    "\treturn Ticker,df"
   ]
  },
  {
   "cell_type": "code",
   "execution_count": 8,
   "metadata": {
    "collapsed": true
   },
   "outputs": [],
   "source": [
    "ticker,df=parse_1()"
   ]
  },
  {
   "cell_type": "code",
   "execution_count": 12,
   "metadata": {
    "collapsed": false
   },
   "outputs": [],
   "source": [
    "from dateutil.parser import parse\n",
    "def date_transform(df):\n",
    "\tdate=df.date\n",
    "\ty=range(2007,2017)\n",
    "\tyear=map(lambda x: str(x), y)\n",
    "\n",
    "\t\n",
    "\treal_date=[]\n",
    "\tfor i in range(len(date)):\n",
    "\t\tif any(word in date[i] for word in year):\n",
    "\t\t\td=date[i].split(',')[0]+date[i].split(',')[1]\n",
    "\t\t\tdat=parse(d).strftime('%-m/%-d/%y')\n",
    "\t\t####has year#####\n",
    "\t\t\treal_date.append(dat)\n",
    "\t\telse:\n",
    "\t\t\td=date[i].split(',')[1]+' 2017'\n",
    "\t\t\tdat=parse(d).strftime('%-m/%-d/%y')\n",
    "\t\t\treal_date.append(dat)\n",
    "\tj=0\n",
    "\twhile ':' in real_date[j]:\n",
    "\t\tj=j+1\n",
    "\tdf.date=real_date\n",
    "\tdf=df.iloc[j:,:]\n",
    "\treturn df"
   ]
  },
  {
   "cell_type": "code",
   "execution_count": 13,
   "metadata": {
    "collapsed": false
   },
   "outputs": [],
   "source": [
    "df=date_transform(df)"
   ]
  },
  {
   "cell_type": "code",
   "execution_count": 19,
   "metadata": {
    "collapsed": false
   },
   "outputs": [],
   "source": [
    "df=market_data.merge(df,how='left',left_on='Date',right_on='date').drop('date',axis=1)"
   ]
  },
  {
   "cell_type": "code",
   "execution_count": 54,
   "metadata": {
    "collapsed": false
   },
   "outputs": [],
   "source": [
    "return_=[]\n",
    "for i in range(market_data.shape[0]-1):\n",
    "    return_.append(market_data.iloc[i+1,1]/market_data.iloc[i,1]-1.0)\n",
    "date=market_data.Date[1:]\n",
    "df={}\n",
    "return_5=return_[:-5]\n",
    "return_4=return_[1:-4]\n",
    "return_3=return_[2:-3]\n",
    "return_2=return_[3:-2]\n",
    "return_1=return_[4:-1]\n",
    "return_y=return_[5:]\n",
    "df['return_5']=return_5\n",
    "df['return_4']=return_4\n",
    "df['return_3']=return_3\n",
    "df['return_2']=return_2\n",
    "df['return_1']=return_1\n",
    "df['return_y']=map(lambda x: 1 if x>=0 else 0,return_y)\n",
    "df['Date']=date[5:]\n",
    "dataframe=pd.DataFrame(df)\n",
    "common_data=pd.read_csv('../data/Price/common_data.csv',header=0)\n",
    "final=dataframe.merge(common_data,how='left',on='Date')"
   ]
  },
  {
   "cell_type": "code",
   "execution_count": 52,
   "metadata": {
    "collapsed": false
   },
   "outputs": [],
   "source": []
  },
  {
   "cell_type": "code",
   "execution_count": 56,
   "metadata": {
    "collapsed": false
   },
   "outputs": [],
   "source": []
  },
  {
   "cell_type": "code",
   "execution_count": 57,
   "metadata": {
    "collapsed": false
   },
   "outputs": [
    {
     "data": {
      "text/plain": [
       "False"
      ]
     },
     "execution_count": 57,
     "metadata": {},
     "output_type": "execute_result"
    }
   ],
   "source": []
  },
  {
   "cell_type": "code",
   "execution_count": 2,
   "metadata": {
    "collapsed": false
   },
   "outputs": [
    {
     "name": "stdout",
     "output_type": "stream",
     "text": [
      "The Cython extension is already loaded. To reload it, use:\n",
      "  %reload_ext Cython\n",
      "CPU times: user 4 µs, sys: 1e+03 ns, total: 5 µs\n",
      "Wall time: 8.82 µs\n"
     ]
    }
   ],
   "source": [
    "%load_ext Cython\n",
    "%time\n",
    "from gensim.models import word2vec \n",
    "import nltk \n",
    "import re \n",
    "import pandas as pd\n",
    "import numpy as np"
   ]
  },
  {
   "cell_type": "code",
   "execution_count": 3,
   "metadata": {
    "collapsed": false
   },
   "outputs": [],
   "source": [
    "\n",
    "def split_sentence(sentence): \n",
    "    return re.split('\\W+', sentence) \n",
    "class MyDocs(object): \n",
    "    def __init__(self,doc1):\n",
    "        self.doc1=doc1\n",
    "    def __iter__(self):\n",
    "        for i, text in enumerate(self.doc1): \n",
    "            yield word2vec.LabeledSentence(words=split_sentence(text), tags=['%s' % i]) \n",
    "# Train the doc2vec model cdef \n",
    "#mydocs = MyDocs(doc1) \n",
    "#model = doc2vec.Doc2Vec(mydocs, size = 200, window = 8, min_count = 1, workers = 4) "
   ]
  },
  {
   "cell_type": "code",
   "execution_count": 54,
   "metadata": {
    "collapsed": false
   },
   "outputs": [],
   "source": [
    "A=pd.read_csv(\"../data/reverb/AAreverb.csv\",header=0)"
   ]
  },
  {
   "cell_type": "code",
   "execution_count": 55,
   "metadata": {
    "collapsed": false
   },
   "outputs": [],
   "source": [
    "A=A.loc[:,['date','confidence','subject','object','verb']].fillna('')"
   ]
  },
  {
   "cell_type": "code",
   "execution_count": 64,
   "metadata": {
    "collapsed": false
   },
   "outputs": [],
   "source": [
    "train_string=A.verb"
   ]
  },
  {
   "cell_type": "code",
   "execution_count": 65,
   "metadata": {
    "collapsed": false
   },
   "outputs": [],
   "source": [
    "mydocs=MyDocs(train_string)"
   ]
  },
  {
   "cell_type": "code",
   "execution_count": 66,
   "metadata": {
    "collapsed": false
   },
   "outputs": [],
   "source": [
    "model = doc2vec.Doc2Vec(mydocs, size = 200, window = 8, min_count = 1, workers = 4) "
   ]
  },
  {
   "cell_type": "code",
   "execution_count": 80,
   "metadata": {
    "collapsed": false
   },
   "outputs": [],
   "source": [
    "lis=[]\n",
    "a1=model.infer_vector(\"123\")\n",
    "a2=model.infer_vector(\"abes\")"
   ]
  },
  {
   "cell_type": "code",
   "execution_count": 81,
   "metadata": {
    "collapsed": false
   },
   "outputs": [],
   "source": [
    "lis.append(a1)"
   ]
  },
  {
   "cell_type": "code",
   "execution_count": 82,
   "metadata": {
    "collapsed": false
   },
   "outputs": [],
   "source": [
    "lis.append(a2)"
   ]
  },
  {
   "cell_type": "code",
   "execution_count": 83,
   "metadata": {
    "collapsed": false
   },
   "outputs": [
    {
     "data": {
      "text/html": [
       "<div>\n",
       "<table border=\"1\" class=\"dataframe\">\n",
       "  <thead>\n",
       "    <tr style=\"text-align: right;\">\n",
       "      <th></th>\n",
       "      <th>0</th>\n",
       "      <th>1</th>\n",
       "      <th>2</th>\n",
       "      <th>3</th>\n",
       "      <th>4</th>\n",
       "      <th>5</th>\n",
       "      <th>6</th>\n",
       "      <th>7</th>\n",
       "      <th>8</th>\n",
       "      <th>9</th>\n",
       "      <th>...</th>\n",
       "      <th>190</th>\n",
       "      <th>191</th>\n",
       "      <th>192</th>\n",
       "      <th>193</th>\n",
       "      <th>194</th>\n",
       "      <th>195</th>\n",
       "      <th>196</th>\n",
       "      <th>197</th>\n",
       "      <th>198</th>\n",
       "      <th>199</th>\n",
       "    </tr>\n",
       "  </thead>\n",
       "  <tbody>\n",
       "    <tr>\n",
       "      <th>0</th>\n",
       "      <td>0.000681</td>\n",
       "      <td>-0.002190</td>\n",
       "      <td>0.002267</td>\n",
       "      <td>-0.000538</td>\n",
       "      <td>-0.001509</td>\n",
       "      <td>-0.001088</td>\n",
       "      <td>0.000110</td>\n",
       "      <td>0.002330</td>\n",
       "      <td>0.002453</td>\n",
       "      <td>-0.000805</td>\n",
       "      <td>...</td>\n",
       "      <td>0.001194</td>\n",
       "      <td>-0.000812</td>\n",
       "      <td>-0.000903</td>\n",
       "      <td>0.002238</td>\n",
       "      <td>0.001958</td>\n",
       "      <td>0.001772</td>\n",
       "      <td>0.00075</td>\n",
       "      <td>0.001536</td>\n",
       "      <td>-0.001942</td>\n",
       "      <td>0.001255</td>\n",
       "    </tr>\n",
       "    <tr>\n",
       "      <th>1</th>\n",
       "      <td>0.002189</td>\n",
       "      <td>-0.001381</td>\n",
       "      <td>-0.001289</td>\n",
       "      <td>-0.000801</td>\n",
       "      <td>0.001861</td>\n",
       "      <td>0.000475</td>\n",
       "      <td>-0.000902</td>\n",
       "      <td>0.000743</td>\n",
       "      <td>0.000806</td>\n",
       "      <td>0.000552</td>\n",
       "      <td>...</td>\n",
       "      <td>0.000803</td>\n",
       "      <td>0.000649</td>\n",
       "      <td>0.002498</td>\n",
       "      <td>-0.002016</td>\n",
       "      <td>-0.000030</td>\n",
       "      <td>0.000835</td>\n",
       "      <td>-0.00189</td>\n",
       "      <td>-0.001527</td>\n",
       "      <td>-0.000543</td>\n",
       "      <td>0.002117</td>\n",
       "    </tr>\n",
       "  </tbody>\n",
       "</table>\n",
       "<p>2 rows × 200 columns</p>\n",
       "</div>"
      ],
      "text/plain": [
       "        0         1         2         3         4         5         6    \\\n",
       "0  0.000681 -0.002190  0.002267 -0.000538 -0.001509 -0.001088  0.000110   \n",
       "1  0.002189 -0.001381 -0.001289 -0.000801  0.001861  0.000475 -0.000902   \n",
       "\n",
       "        7         8         9      ...          190       191       192  \\\n",
       "0  0.002330  0.002453 -0.000805    ...     0.001194 -0.000812 -0.000903   \n",
       "1  0.000743  0.000806  0.000552    ...     0.000803  0.000649  0.002498   \n",
       "\n",
       "        193       194       195      196       197       198       199  \n",
       "0  0.002238  0.001958  0.001772  0.00075  0.001536 -0.001942  0.001255  \n",
       "1 -0.002016 -0.000030  0.000835 -0.00189 -0.001527 -0.000543  0.002117  \n",
       "\n",
       "[2 rows x 200 columns]"
      ]
     },
     "execution_count": 83,
     "metadata": {},
     "output_type": "execute_result"
    }
   ],
   "source": [
    "pd.DataFrame(lis)"
   ]
  },
  {
   "cell_type": "code",
   "execution_count": null,
   "metadata": {
    "collapsed": true
   },
   "outputs": [],
   "source": []
  }
 ],
 "metadata": {
  "anaconda-cloud": {},
  "kernelspec": {
   "display_name": "Python 2",
   "language": "python",
   "name": "python2"
  },
  "language_info": {
   "codemirror_mode": {
    "name": "ipython",
    "version": 2
   },
   "file_extension": ".py",
   "mimetype": "text/x-python",
   "name": "python",
   "nbconvert_exporter": "python",
   "pygments_lexer": "ipython2",
   "version": "2.7.12"
  }
 },
 "nbformat": 4,
 "nbformat_minor": 1
}
